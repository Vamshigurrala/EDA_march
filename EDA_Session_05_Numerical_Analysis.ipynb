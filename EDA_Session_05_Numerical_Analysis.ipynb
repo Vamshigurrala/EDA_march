{
 "cells": [
  {
   "cell_type": "code",
   "execution_count": 4,
   "id": "9ce581a5-2dd6-4940-a508-c3b20c137b18",
   "metadata": {},
   "outputs": [],
   "source": [
    "import pandas as pd\n",
    "import numpy as np\n",
    "import matplotlib.pyplot as plt\n",
    "import seaborn as sns"
   ]
  },
  {
   "cell_type": "code",
   "execution_count": 5,
   "id": "58102518-429b-410f-aa1b-bc74fcabceed",
   "metadata": {},
   "outputs": [
    {
     "data": {
      "text/html": [
       "<div>\n",
       "<style scoped>\n",
       "    .dataframe tbody tr th:only-of-type {\n",
       "        vertical-align: middle;\n",
       "    }\n",
       "\n",
       "    .dataframe tbody tr th {\n",
       "        vertical-align: top;\n",
       "    }\n",
       "\n",
       "    .dataframe thead th {\n",
       "        text-align: right;\n",
       "    }\n",
       "</style>\n",
       "<table border=\"1\" class=\"dataframe\">\n",
       "  <thead>\n",
       "    <tr style=\"text-align: right;\">\n",
       "      <th></th>\n",
       "      <th>case_id</th>\n",
       "      <th>continent</th>\n",
       "      <th>education_of_employee</th>\n",
       "      <th>has_job_experience</th>\n",
       "      <th>requires_job_training</th>\n",
       "      <th>no_of_employees</th>\n",
       "      <th>yr_of_estab</th>\n",
       "      <th>region_of_employment</th>\n",
       "      <th>prevailing_wage</th>\n",
       "      <th>unit_of_wage</th>\n",
       "      <th>full_time_position</th>\n",
       "      <th>case_status</th>\n",
       "    </tr>\n",
       "  </thead>\n",
       "  <tbody>\n",
       "    <tr>\n",
       "      <th>0</th>\n",
       "      <td>EZYV01</td>\n",
       "      <td>Asia</td>\n",
       "      <td>High School</td>\n",
       "      <td>N</td>\n",
       "      <td>N</td>\n",
       "      <td>14513</td>\n",
       "      <td>2007</td>\n",
       "      <td>West</td>\n",
       "      <td>592.2029</td>\n",
       "      <td>Hour</td>\n",
       "      <td>Y</td>\n",
       "      <td>Denied</td>\n",
       "    </tr>\n",
       "    <tr>\n",
       "      <th>1</th>\n",
       "      <td>EZYV02</td>\n",
       "      <td>Asia</td>\n",
       "      <td>Master's</td>\n",
       "      <td>Y</td>\n",
       "      <td>N</td>\n",
       "      <td>2412</td>\n",
       "      <td>2002</td>\n",
       "      <td>Northeast</td>\n",
       "      <td>83425.6500</td>\n",
       "      <td>Year</td>\n",
       "      <td>Y</td>\n",
       "      <td>Certified</td>\n",
       "    </tr>\n",
       "  </tbody>\n",
       "</table>\n",
       "</div>"
      ],
      "text/plain": [
       "  case_id continent education_of_employee has_job_experience  \\\n",
       "0  EZYV01      Asia           High School                  N   \n",
       "1  EZYV02      Asia              Master's                  Y   \n",
       "\n",
       "  requires_job_training  no_of_employees  yr_of_estab region_of_employment  \\\n",
       "0                     N            14513         2007                 West   \n",
       "1                     N             2412         2002            Northeast   \n",
       "\n",
       "   prevailing_wage unit_of_wage full_time_position case_status  \n",
       "0         592.2029         Hour                  Y      Denied  \n",
       "1       83425.6500         Year                  Y   Certified  "
      ]
     },
     "execution_count": 5,
     "metadata": {},
     "output_type": "execute_result"
    }
   ],
   "source": [
    "visa_df=pd.read_csv(r\"C:\\Users\\vamsh\\OneDrive\\NARESHIT\\DATA_FOLDER\\Visadataset - Visadataset.csv\")\n",
    "visa_df.head(2)"
   ]
  },
  {
   "cell_type": "markdown",
   "id": "f34c4275-7333-47cb-8949-a222afe2def2",
   "metadata": {},
   "source": [
    "**selct the numerical columns**"
   ]
  },
  {
   "cell_type": "code",
   "execution_count": 6,
   "id": "17a166d1-c221-4017-be4e-be4df8a9619d",
   "metadata": {},
   "outputs": [
    {
     "data": {
      "text/plain": [
       "Index(['no_of_employees', 'yr_of_estab', 'prevailing_wage'], dtype='object')"
      ]
     },
     "execution_count": 6,
     "metadata": {},
     "output_type": "execute_result"
    }
   ],
   "source": [
    "visa_df.select_dtypes(exclude='object').columns"
   ]
  },
  {
   "cell_type": "markdown",
   "id": "722e545c-1150-4e6b-b791-572e63c41c4e",
   "metadata": {},
   "source": [
    "**Prevailing wage**"
   ]
  },
  {
   "cell_type": "markdown",
   "id": "8a4609ac-d62c-4226-9233-9c7040f7df40",
   "metadata": {},
   "source": [
    "- len\n",
    "- max\n",
    "- min\n",
    "- mean\n",
    "- median\n",
    "- std dev\n",
    "- 75%\n",
    "- 50%\n",
    "- 25%"
   ]
  },
  {
   "cell_type": "code",
   "execution_count": 7,
   "id": "fa3cda46-9587-41b8-8264-c38ea0bb185d",
   "metadata": {},
   "outputs": [
    {
     "data": {
      "text/plain": [
       "25480"
      ]
     },
     "execution_count": 7,
     "metadata": {},
     "output_type": "execute_result"
    }
   ],
   "source": [
    "len(visa_df['prevailing_wage'])"
   ]
  },
  {
   "cell_type": "code",
   "execution_count": 8,
   "id": "730845bc-5197-49c9-abf5-f70418dbb001",
   "metadata": {},
   "outputs": [
    {
     "data": {
      "text/plain": [
       "319210.27"
      ]
     },
     "execution_count": 8,
     "metadata": {},
     "output_type": "execute_result"
    }
   ],
   "source": [
    "max(visa_df['prevailing_wage'])# normal key word"
   ]
  },
  {
   "cell_type": "code",
   "execution_count": 9,
   "id": "e5e663e8-f3a4-4ee1-950d-8f1ee400fa98",
   "metadata": {},
   "outputs": [
    {
     "data": {
      "text/plain": [
       "319210.27"
      ]
     },
     "execution_count": 9,
     "metadata": {},
     "output_type": "execute_result"
    }
   ],
   "source": [
    "visa_df['prevailing_wage'].max() #using pandas"
   ]
  },
  {
   "cell_type": "code",
   "execution_count": 10,
   "id": "230a2cb9-4762-45d9-a82e-578f7b3c4837",
   "metadata": {},
   "outputs": [
    {
     "data": {
      "text/plain": [
       "319210.27"
      ]
     },
     "execution_count": 10,
     "metadata": {},
     "output_type": "execute_result"
    }
   ],
   "source": [
    "np.max(visa_df['prevailing_wage']) #using numpy"
   ]
  },
  {
   "cell_type": "code",
   "execution_count": 11,
   "id": "250237d3-c20b-41ef-8af8-5fb99ebd1f98",
   "metadata": {},
   "outputs": [
    {
     "data": {
      "text/plain": [
       "2.1367"
      ]
     },
     "execution_count": 11,
     "metadata": {},
     "output_type": "execute_result"
    }
   ],
   "source": [
    "min(visa_df['prevailing_wage'])"
   ]
  },
  {
   "cell_type": "code",
   "execution_count": 12,
   "id": "9d927b32-35d0-459d-8490-31eb7fb25a5b",
   "metadata": {},
   "outputs": [
    {
     "data": {
      "text/plain": [
       "2.1367"
      ]
     },
     "execution_count": 12,
     "metadata": {},
     "output_type": "execute_result"
    }
   ],
   "source": [
    "np.min(visa_df['prevailing_wage'])"
   ]
  },
  {
   "cell_type": "code",
   "execution_count": 13,
   "id": "ddad2b88-a248-45bd-8ce8-5f86b2d62310",
   "metadata": {},
   "outputs": [
    {
     "data": {
      "text/plain": [
       "2.1367"
      ]
     },
     "execution_count": 13,
     "metadata": {},
     "output_type": "execute_result"
    }
   ],
   "source": [
    "visa_df['prevailing_wage'].min()"
   ]
  },
  {
   "cell_type": "code",
   "execution_count": 14,
   "id": "284c60f4-8fa4-4432-b744-9469fae45891",
   "metadata": {},
   "outputs": [
    {
     "data": {
      "text/plain": [
       "74455.81459209183"
      ]
     },
     "execution_count": 14,
     "metadata": {},
     "output_type": "execute_result"
    }
   ],
   "source": [
    "visa_df['prevailing_wage'].mean()\n"
   ]
  },
  {
   "cell_type": "code",
   "execution_count": 15,
   "id": "c345c8a6-4108-4208-bcba-9824bce0045b",
   "metadata": {},
   "outputs": [
    {
     "data": {
      "text/plain": [
       "74455.81459209183"
      ]
     },
     "execution_count": 15,
     "metadata": {},
     "output_type": "execute_result"
    }
   ],
   "source": [
    "np.mean(visa_df['prevailing_wage'])\n"
   ]
  },
  {
   "cell_type": "code",
   "execution_count": 16,
   "id": "365b398f-9942-4f09-b17d-f2e3b50c0eba",
   "metadata": {},
   "outputs": [
    {
     "data": {
      "text/plain": [
       "70308.20999999999"
      ]
     },
     "execution_count": 16,
     "metadata": {},
     "output_type": "execute_result"
    }
   ],
   "source": [
    "visa_df['prevailing_wage'].median()"
   ]
  },
  {
   "cell_type": "code",
   "execution_count": 17,
   "id": "e92b2403-8c6f-4979-83e4-f709c260d651",
   "metadata": {},
   "outputs": [
    {
     "data": {
      "text/plain": [
       "70308.20999999999"
      ]
     },
     "execution_count": 17,
     "metadata": {},
     "output_type": "execute_result"
    }
   ],
   "source": [
    "np.median(visa_df['prevailing_wage'])"
   ]
  },
  {
   "cell_type": "code",
   "execution_count": 18,
   "id": "1c792ff1-8317-4b4d-947f-6b48e4b875e1",
   "metadata": {},
   "outputs": [
    {
     "data": {
      "text/plain": [
       "52814.90589711402"
      ]
     },
     "execution_count": 18,
     "metadata": {},
     "output_type": "execute_result"
    }
   ],
   "source": [
    "np.std(visa_df['prevailing_wage'])"
   ]
  },
  {
   "cell_type": "code",
   "execution_count": 19,
   "id": "7f2a0571-7781-449a-a55f-3ab90b65b98b",
   "metadata": {},
   "outputs": [
    {
     "data": {
      "text/plain": [
       "52815.94232687357"
      ]
     },
     "execution_count": 19,
     "metadata": {},
     "output_type": "execute_result"
    }
   ],
   "source": [
    "visa_df['prevailing_wage'].std()"
   ]
  },
  {
   "cell_type": "code",
   "execution_count": 20,
   "id": "79488810-49c6-45ae-957b-a0037b7a50c0",
   "metadata": {},
   "outputs": [],
   "source": [
    "## All together\n",
    "\n",
    "wage_count=round(len(visa_df['prevailing_wage']),2)\n",
    "wage_max=round(visa_df['prevailing_wage'].max(),2)\n",
    "wage_min=round(visa_df['prevailing_wage'].min(),2)\n",
    "wage_mean=round(visa_df['prevailing_wage'].mean(),2)\n",
    "wage_median=round(visa_df['prevailing_wage'].median(),2)\n",
    "wage_std=round(visa_df['prevailing_wage'].std(),2)\n",
    "values=(wage_count,wage_max,wage_min,wage_mean,wage_median,wage_std)\n"
   ]
  },
  {
   "cell_type": "code",
   "execution_count": 21,
   "id": "5e1c8cea-cf54-4039-b2ee-245d6626be8e",
   "metadata": {},
   "outputs": [
    {
     "data": {
      "text/plain": [
       "[25480, 319210.27, 2.14, 74455.81, 70308.21, 52815.94]"
      ]
     },
     "execution_count": 21,
     "metadata": {},
     "output_type": "execute_result"
    }
   ],
   "source": [
    "list_values=[]\n",
    "for i in values:\n",
    "    list_values.append(i)\n",
    "    \n",
    "list_values"
   ]
  },
  {
   "cell_type": "code",
   "execution_count": 22,
   "id": "491f0714-1145-4d89-9438-3b54957372f1",
   "metadata": {},
   "outputs": [
    {
     "data": {
      "text/html": [
       "<div>\n",
       "<style scoped>\n",
       "    .dataframe tbody tr th:only-of-type {\n",
       "        vertical-align: middle;\n",
       "    }\n",
       "\n",
       "    .dataframe tbody tr th {\n",
       "        vertical-align: top;\n",
       "    }\n",
       "\n",
       "    .dataframe thead th {\n",
       "        text-align: right;\n",
       "    }\n",
       "</style>\n",
       "<table border=\"1\" class=\"dataframe\">\n",
       "  <thead>\n",
       "    <tr style=\"text-align: right;\">\n",
       "      <th></th>\n",
       "      <th>prevailing_wage</th>\n",
       "    </tr>\n",
       "  </thead>\n",
       "  <tbody>\n",
       "    <tr>\n",
       "      <th>count</th>\n",
       "      <td>25480.00</td>\n",
       "    </tr>\n",
       "    <tr>\n",
       "      <th>max</th>\n",
       "      <td>319210.27</td>\n",
       "    </tr>\n",
       "    <tr>\n",
       "      <th>min</th>\n",
       "      <td>2.14</td>\n",
       "    </tr>\n",
       "    <tr>\n",
       "      <th>mean</th>\n",
       "      <td>74455.81</td>\n",
       "    </tr>\n",
       "    <tr>\n",
       "      <th>median</th>\n",
       "      <td>70308.21</td>\n",
       "    </tr>\n",
       "    <tr>\n",
       "      <th>std</th>\n",
       "      <td>52815.94</td>\n",
       "    </tr>\n",
       "  </tbody>\n",
       "</table>\n",
       "</div>"
      ],
      "text/plain": [
       "        prevailing_wage\n",
       "count          25480.00\n",
       "max           319210.27\n",
       "min                2.14\n",
       "mean           74455.81\n",
       "median         70308.21\n",
       "std            52815.94"
      ]
     },
     "execution_count": 22,
     "metadata": {},
     "output_type": "execute_result"
    }
   ],
   "source": [
    "idx=['count','max','min','mean','median','std']\n",
    "pd.DataFrame(list_values,\n",
    "             index=idx,\n",
    "             columns=['prevailing_wage'])"
   ]
  },
  {
   "cell_type": "markdown",
   "id": "477db1c0-f282-4902-a2b8-312cba15ed1a",
   "metadata": {},
   "source": [
    "**Percentile and Quantile**"
   ]
  },
  {
   "cell_type": "markdown",
   "id": "0d56b348-eee4-48d8-a075-77b3e4a1571e",
   "metadata": {},
   "source": [
    "- percentile:\n",
    "      - np.percentile()\n",
    "      - it will take 2 arguments\n",
    "              - data : a\n",
    "              - percentile means 'q' and the value of 'q' varies from 0 to 100\n",
    "              - if you want 50p data then q=50\n",
    "\n",
    "- Quantile:\n",
    "      - np.quantile()\n",
    "      - it will take 2 arguments\n",
    "              - data: a\n",
    "              - percentile means 'q' and the value varies from 0 to 1\n",
    "              - if you want 50p data then q=0.5\n",
    "  "
   ]
  },
  {
   "cell_type": "markdown",
   "id": "fdccf03e-8e88-4bfd-bdfb-4675beece2cb",
   "metadata": {},
   "source": [
    "**25p-50p-75p**"
   ]
  },
  {
   "cell_type": "code",
   "execution_count": 23,
   "id": "52dfaf05-ee63-4a5d-8a70-f7ac8c0a7f6b",
   "metadata": {},
   "outputs": [
    {
     "name": "stdout",
     "output_type": "stream",
     "text": [
      "The 25% data is 34015.48\n",
      "The 50% data is 70308.21\n",
      "The 75% data is 107735.51\n"
     ]
    }
   ],
   "source": [
    "wage_25p=round(np.percentile(visa_df['prevailing_wage'],25),2)\n",
    "wage_50p=round(np.percentile(visa_df['prevailing_wage'],50),2)\n",
    "wage_75p=round(np.percentile(visa_df['prevailing_wage'],75),2)\n",
    "\n",
    "print(f'The 25% data is {wage_25p}')\n",
    "print(f'The 50% data is {wage_50p}')\n",
    "print(f'The 75% data is {wage_75p}')"
   ]
  },
  {
   "cell_type": "code",
   "execution_count": 24,
   "id": "13ee93e7-5e0e-47c9-821e-12c4d63e7814",
   "metadata": {},
   "outputs": [
    {
     "name": "stdout",
     "output_type": "stream",
     "text": [
      "The 25% data is 34015.48\n",
      "The 50% data is 70308.21\n",
      "The 75% data is 107735.51\n"
     ]
    }
   ],
   "source": [
    "wage_25q=round(np.quantile(visa_df['prevailing_wage'],0.25),2)\n",
    "wage_50q=round(np.quantile(visa_df['prevailing_wage'],0.50),2)\n",
    "wage_75q=round(np.quantile(visa_df['prevailing_wage'],0.75),2)\n",
    "\n",
    "print(f'The 25% data is {wage_25q}')\n",
    "print(f'The 50% data is {wage_50q}')\n",
    "print(f'The 75% data is {wage_75q}')"
   ]
  },
  {
   "cell_type": "markdown",
   "id": "11e0cdba-bf8e-41fc-83b6-bf910bf668bb",
   "metadata": {},
   "source": [
    "**understanding the percentiles**\n",
    "\n",
    "- defination of 25 percentile\n",
    "  \n",
    "      - there are 25% of employees with salary less than 34015\n",
    "      - total employess= 25480\n",
    "      - 25% of employees= 25480*25/100=6370\n",
    "      - 6370 employees salary less than 34015"
   ]
  },
  {
   "cell_type": "code",
   "execution_count": 25,
   "id": "912b7d21-f0c1-4aa8-af18-612ef4ceafed",
   "metadata": {},
   "outputs": [
    {
     "data": {
      "text/plain": [
       "6370"
      ]
     },
     "execution_count": 25,
     "metadata": {},
     "output_type": "execute_result"
    }
   ],
   "source": [
    "con=visa_df['prevailing_wage']<34015\n",
    "len(visa_df[con])"
   ]
  },
  {
   "cell_type": "markdown",
   "id": "6f7d0ed8-62cb-46d5-8371-9b160a378be5",
   "metadata": {},
   "source": [
    "- defination of 50 percentile\n",
    "      - there are 50% employees with salary less than 70308\n",
    "      - total employees = 25480\n",
    "      - 50% of employees=25480*50/100=12740\n",
    "      - 12740 employees salary less than 70308\n"
   ]
  },
  {
   "cell_type": "code",
   "execution_count": 26,
   "id": "e69cdb1f-02b6-45c0-b731-90e52d2bdc41",
   "metadata": {},
   "outputs": [
    {
     "data": {
      "text/plain": [
       "12740"
      ]
     },
     "execution_count": 26,
     "metadata": {},
     "output_type": "execute_result"
    }
   ],
   "source": [
    "cond=visa_df['prevailing_wage']<70308\n",
    "len(visa_df[cond])"
   ]
  },
  {
   "cell_type": "markdown",
   "id": "0259cbe9-848e-46e7-95fd-076594a37606",
   "metadata": {},
   "source": [
    "- defination of 75 percentile\n",
    "    - there are 75% employees with salary less than 107735\n",
    "    - total number of employees= 25480\n",
    "    - 75% of employees=25480*75/100=19110\n",
    "    - 19110 employees salary less than 107735"
   ]
  },
  {
   "cell_type": "code",
   "execution_count": 27,
   "id": "26cef015-c805-46ca-9bc1-f18c87b9c424",
   "metadata": {},
   "outputs": [
    {
     "data": {
      "text/plain": [
       "19110"
      ]
     },
     "execution_count": 27,
     "metadata": {},
     "output_type": "execute_result"
    }
   ],
   "source": [
    "condt=visa_df['prevailing_wage']<107735\n",
    "len(visa_df[condt])"
   ]
  },
  {
   "cell_type": "markdown",
   "id": "70795de0-2f8a-4ba0-be42-9ed3082456dd",
   "metadata": {},
   "source": [
    "**Emperical rule (68-95-99.7)**"
   ]
  },
  {
   "cell_type": "markdown",
   "id": "4ec5143a-91ec-4ead-aa90-cae0ee1f4d10",
   "metadata": {},
   "source": [
    "<img src=\"https://builtin.com/sites/www.builtin.com/files/styles/ckeditor_optimize/public/inline-images/1_empirical-rule.jpg\" jsaction=\"VQAsE\" class=\"sFlh5c pT0Scc iPVvYb\" style=\"max-width: 810px; height: 147px; margin: 0px; width: 294px;\" alt=\"Empirical Rule (68-95-99.7) Explained | Built In\" jsname=\"kn3ccd\" aria-hidden=\"false\">"
   ]
  },
  {
   "cell_type": "markdown",
   "id": "31e0aa66-518c-4ecc-8e3e-886033539d3c",
   "metadata": {},
   "source": [
    "- first calculate mean value\n",
    "- second calculate std value\n",
    "- con1: mean-1*std\n",
    "- con2: mean+1*std\n",
    "- of you apply above condition on wage data, the output count\n",
    "  should be equal to 68 percentile data\n",
    "- 68% of total employees=68*25480/100=17326"
   ]
  },
  {
   "cell_type": "code",
   "execution_count": 28,
   "id": "c3346fcd-92a7-4ded-8ae9-9c65c821e64a",
   "metadata": {},
   "outputs": [
    {
     "data": {
      "text/plain": [
       "(21639.869999999995, 127271.75)"
      ]
     },
     "execution_count": 28,
     "metadata": {},
     "output_type": "execute_result"
    }
   ],
   "source": [
    "v1=wage_mean-1*wage_std\n",
    "v2=wage_mean+1*wage_std\n",
    "v1,v2"
   ]
  },
  {
   "cell_type": "code",
   "execution_count": 29,
   "id": "34636809-2f78-4c8f-bacf-98a05c7fc45c",
   "metadata": {},
   "outputs": [
    {
     "data": {
      "text/plain": [
       "17171"
      ]
     },
     "execution_count": 29,
     "metadata": {},
     "output_type": "execute_result"
    }
   ],
   "source": [
    "con1=visa_df['prevailing_wage']>v1\n",
    "con2=visa_df['prevailing_wage']<v2\n",
    "count1=len(visa_df[con1&con2])\n",
    "count1"
   ]
  },
  {
   "cell_type": "code",
   "execution_count": 30,
   "id": "db352890-9dcc-4174-bdb4-4bdbb831a81d",
   "metadata": {},
   "outputs": [
    {
     "data": {
      "text/plain": [
       "(-31176.070000000007, 180087.69)"
      ]
     },
     "execution_count": 30,
     "metadata": {},
     "output_type": "execute_result"
    }
   ],
   "source": [
    "val1=wage_mean-2*wage_std\n",
    "val2=wage_mean+2*wage_std\n",
    "val1,val2"
   ]
  },
  {
   "cell_type": "code",
   "execution_count": 31,
   "id": "00ea02eb-735c-43c5-b50f-228c6cf88701",
   "metadata": {},
   "outputs": [
    {
     "data": {
      "text/plain": [
       "24582"
      ]
     },
     "execution_count": 31,
     "metadata": {},
     "output_type": "execute_result"
    }
   ],
   "source": [
    "con1=visa_df['prevailing_wage']>val1\n",
    "con2=visa_df['prevailing_wage']<val2\n",
    "count2=len(visa_df[con1&con2])\n",
    "count2"
   ]
  },
  {
   "cell_type": "code",
   "execution_count": 32,
   "id": "c10e16da-02f0-43ec-9fed-374df2f25d5a",
   "metadata": {},
   "outputs": [
    {
     "data": {
      "text/plain": [
       "(-83992.01000000001, 232903.63)"
      ]
     },
     "execution_count": 32,
     "metadata": {},
     "output_type": "execute_result"
    }
   ],
   "source": [
    "value1=wage_mean-3*wage_std\n",
    "value2=wage_mean+3*wage_std\n",
    "value1,value2"
   ]
  },
  {
   "cell_type": "code",
   "execution_count": 33,
   "id": "4d987039-ae26-458c-b812-32c244b7e213",
   "metadata": {},
   "outputs": [
    {
     "data": {
      "text/plain": [
       "25186"
      ]
     },
     "execution_count": 33,
     "metadata": {},
     "output_type": "execute_result"
    }
   ],
   "source": [
    "con1=visa_df['prevailing_wage']>value1\n",
    "con2=visa_df['prevailing_wage']<value2\n",
    "count3=len(visa_df[con1&con2])\n",
    "count3"
   ]
  },
  {
   "cell_type": "code",
   "execution_count": 34,
   "id": "e4cc714e-5268-4d53-a735-743b7ebc399e",
   "metadata": {},
   "outputs": [
    {
     "data": {
      "text/html": [
       "<div>\n",
       "<style scoped>\n",
       "    .dataframe tbody tr th:only-of-type {\n",
       "        vertical-align: middle;\n",
       "    }\n",
       "\n",
       "    .dataframe tbody tr th {\n",
       "        vertical-align: top;\n",
       "    }\n",
       "\n",
       "    .dataframe thead th {\n",
       "        text-align: right;\n",
       "    }\n",
       "</style>\n",
       "<table border=\"1\" class=\"dataframe\">\n",
       "  <thead>\n",
       "    <tr style=\"text-align: right;\">\n",
       "      <th></th>\n",
       "      <th>prevailing_wage</th>\n",
       "    </tr>\n",
       "  </thead>\n",
       "  <tbody>\n",
       "    <tr>\n",
       "      <th>count</th>\n",
       "      <td>25480.00</td>\n",
       "    </tr>\n",
       "    <tr>\n",
       "      <th>min</th>\n",
       "      <td>2.14</td>\n",
       "    </tr>\n",
       "    <tr>\n",
       "      <th>max</th>\n",
       "      <td>319210.27</td>\n",
       "    </tr>\n",
       "    <tr>\n",
       "      <th>mean</th>\n",
       "      <td>74455.81</td>\n",
       "    </tr>\n",
       "    <tr>\n",
       "      <th>median</th>\n",
       "      <td>70308.21</td>\n",
       "    </tr>\n",
       "    <tr>\n",
       "      <th>std</th>\n",
       "      <td>52815.94</td>\n",
       "    </tr>\n",
       "    <tr>\n",
       "      <th>25%</th>\n",
       "      <td>34015.48</td>\n",
       "    </tr>\n",
       "    <tr>\n",
       "      <th>50%</th>\n",
       "      <td>70308.21</td>\n",
       "    </tr>\n",
       "    <tr>\n",
       "      <th>75%</th>\n",
       "      <td>107735.51</td>\n",
       "    </tr>\n",
       "  </tbody>\n",
       "</table>\n",
       "</div>"
      ],
      "text/plain": [
       "        prevailing_wage\n",
       "count          25480.00\n",
       "min                2.14\n",
       "max           319210.27\n",
       "mean           74455.81\n",
       "median         70308.21\n",
       "std            52815.94\n",
       "25%            34015.48\n",
       "50%            70308.21\n",
       "75%           107735.51"
      ]
     },
     "execution_count": 34,
     "metadata": {},
     "output_type": "execute_result"
    }
   ],
   "source": [
    "## All together\n",
    "\n",
    "wage_count=round(len(visa_df['prevailing_wage']),2)\n",
    "wage_max=round(visa_df['prevailing_wage'].max(),2)\n",
    "wage_min=round(visa_df['prevailing_wage'].min(),2)\n",
    "wage_mean=round(visa_df['prevailing_wage'].mean(),2)\n",
    "wage_median=round(visa_df['prevailing_wage'].median(),2)\n",
    "wage_std=round(visa_df['prevailing_wage'].std(),2)\n",
    "values=(wage_count,wage_max,wage_min,wage_mean,wage_median,wage_std)\n",
    "\n",
    "############################################################################\n",
    "wage_25q=round(np.quantile(visa_df['prevailing_wage'],0.25),2)\n",
    "wage_50q=round(np.quantile(visa_df['prevailing_wage'],0.50),2)\n",
    "wage_75q=round(np.quantile(visa_df['prevailing_wage'],0.75),2)\n",
    "\n",
    "#############################################################################\n",
    "list_values=[wage_count,wage_min,wage_max,\n",
    "             wage_mean,wage_median,wage_std,\n",
    "             wage_25p,wage_50p,wage_75p]\n",
    "idx=['count','min','max',\n",
    "     'mean','median','std',\n",
    "      '25%','50%','75%']\n",
    "pd.DataFrame(list_values,\n",
    "             index=idx,\n",
    "             columns=['prevailing_wage'])"
   ]
  },
  {
   "cell_type": "markdown",
   "id": "11c5f79a-bd78-4eec-aabf-6098ec07f261",
   "metadata": {},
   "source": [
    "**No of Employees**"
   ]
  },
  {
   "cell_type": "markdown",
   "id": "c028402f-23c7-4eb0-9526-45d7f71e160e",
   "metadata": {},
   "source": [
    "- len\n",
    "- max\n",
    "- min\n",
    "- mean\n",
    "- median\n",
    "- std dev\n",
    "- 75%\n",
    "- 50%\n",
    "- 25%"
   ]
  },
  {
   "cell_type": "code",
   "execution_count": 35,
   "id": "9e3e97e2-109a-4989-9384-b8aedf617cb7",
   "metadata": {},
   "outputs": [
    {
     "data": {
      "text/plain": [
       "25480"
      ]
     },
     "execution_count": 35,
     "metadata": {},
     "output_type": "execute_result"
    }
   ],
   "source": [
    "len(visa_df['no_of_employees'])"
   ]
  },
  {
   "cell_type": "code",
   "execution_count": 36,
   "id": "6693c5dc-591e-4333-9a15-0bf2433b060a",
   "metadata": {},
   "outputs": [
    {
     "data": {
      "text/plain": [
       "602069"
      ]
     },
     "execution_count": 36,
     "metadata": {},
     "output_type": "execute_result"
    }
   ],
   "source": [
    "visa_df['no_of_employees'].max()"
   ]
  },
  {
   "cell_type": "code",
   "execution_count": 37,
   "id": "6a055bce-27e6-41cf-a3cf-2702fa2125f5",
   "metadata": {},
   "outputs": [
    {
     "data": {
      "text/plain": [
       "-26"
      ]
     },
     "execution_count": 37,
     "metadata": {},
     "output_type": "execute_result"
    }
   ],
   "source": [
    "visa_df['no_of_employees'].min()"
   ]
  },
  {
   "cell_type": "code",
   "execution_count": 38,
   "id": "aabe8844-9f79-4243-aed5-2ac3c6b7c93e",
   "metadata": {},
   "outputs": [
    {
     "data": {
      "text/plain": [
       "5667.043210361067"
      ]
     },
     "execution_count": 38,
     "metadata": {},
     "output_type": "execute_result"
    }
   ],
   "source": [
    "visa_df['no_of_employees'].mean()"
   ]
  },
  {
   "cell_type": "code",
   "execution_count": 39,
   "id": "1a214eef-6874-49dd-8d4a-3e2f71eeabc7",
   "metadata": {},
   "outputs": [
    {
     "data": {
      "text/plain": [
       "2109.0"
      ]
     },
     "execution_count": 39,
     "metadata": {},
     "output_type": "execute_result"
    }
   ],
   "source": [
    "visa_df['no_of_employees'].median()"
   ]
  },
  {
   "cell_type": "code",
   "execution_count": 40,
   "id": "06c529f5-baca-4ad5-8677-4adca4b7ef07",
   "metadata": {},
   "outputs": [
    {
     "data": {
      "text/plain": [
       "22877.928847734398"
      ]
     },
     "execution_count": 40,
     "metadata": {},
     "output_type": "execute_result"
    }
   ],
   "source": [
    "visa_df['no_of_employees'].std()"
   ]
  },
  {
   "cell_type": "code",
   "execution_count": 41,
   "id": "c2f5968d-f891-4fb0-a1be-11740edacf44",
   "metadata": {},
   "outputs": [
    {
     "data": {
      "text/plain": [
       "[25480, 602069, -26, 5667.04, 2109.0, 22877.93]"
      ]
     },
     "execution_count": 41,
     "metadata": {},
     "output_type": "execute_result"
    }
   ],
   "source": [
    "emp_len=round(len(visa_df['no_of_employees']),2)\n",
    "emp_max=round(visa_df['no_of_employees'].max(),2)\n",
    "emp_min=round(visa_df['no_of_employees'].min(),2)\n",
    "emp_mean=round(visa_df['no_of_employees'].mean(),2)\n",
    "emp_median=round(visa_df['no_of_employees'].median(),2)\n",
    "emp_std=round(visa_df['no_of_employees'].std(),2)\n",
    "list_values=[emp_len,emp_max,emp_min,emp_mean,emp_median,emp_std]\n",
    "list_values"
   ]
  },
  {
   "cell_type": "code",
   "execution_count": 42,
   "id": "d504c31d-0666-4459-b037-49fc3e2c5a63",
   "metadata": {},
   "outputs": [
    {
     "data": {
      "text/html": [
       "<div>\n",
       "<style scoped>\n",
       "    .dataframe tbody tr th:only-of-type {\n",
       "        vertical-align: middle;\n",
       "    }\n",
       "\n",
       "    .dataframe tbody tr th {\n",
       "        vertical-align: top;\n",
       "    }\n",
       "\n",
       "    .dataframe thead th {\n",
       "        text-align: right;\n",
       "    }\n",
       "</style>\n",
       "<table border=\"1\" class=\"dataframe\">\n",
       "  <thead>\n",
       "    <tr style=\"text-align: right;\">\n",
       "      <th></th>\n",
       "      <th>No of employees</th>\n",
       "    </tr>\n",
       "  </thead>\n",
       "  <tbody>\n",
       "    <tr>\n",
       "      <th>count</th>\n",
       "      <td>25480.00</td>\n",
       "    </tr>\n",
       "    <tr>\n",
       "      <th>max</th>\n",
       "      <td>602069.00</td>\n",
       "    </tr>\n",
       "    <tr>\n",
       "      <th>min</th>\n",
       "      <td>-26.00</td>\n",
       "    </tr>\n",
       "    <tr>\n",
       "      <th>mean</th>\n",
       "      <td>5667.04</td>\n",
       "    </tr>\n",
       "    <tr>\n",
       "      <th>median</th>\n",
       "      <td>2109.00</td>\n",
       "    </tr>\n",
       "    <tr>\n",
       "      <th>std</th>\n",
       "      <td>22877.93</td>\n",
       "    </tr>\n",
       "  </tbody>\n",
       "</table>\n",
       "</div>"
      ],
      "text/plain": [
       "        No of employees\n",
       "count          25480.00\n",
       "max           602069.00\n",
       "min              -26.00\n",
       "mean            5667.04\n",
       "median          2109.00\n",
       "std            22877.93"
      ]
     },
     "execution_count": 42,
     "metadata": {},
     "output_type": "execute_result"
    }
   ],
   "source": [
    "idx=['count','max','min','mean','median','std']\n",
    "pd.DataFrame(list_values,\n",
    "             index=idx,\n",
    "             columns=['No of employees'])"
   ]
  },
  {
   "cell_type": "code",
   "execution_count": 43,
   "id": "c175b150-e9b5-4965-91df-9d0ba19f9d64",
   "metadata": {},
   "outputs": [
    {
     "name": "stdout",
     "output_type": "stream",
     "text": [
      "The 25% data is 1022.0\n",
      "The 50% data is 2109.0\n",
      "The 75% data is 3504.0\n"
     ]
    }
   ],
   "source": [
    "emp_25q=round(np.quantile(visa_df['no_of_employees'],0.25),2)\n",
    "emp_50q=round(np.quantile(visa_df['no_of_employees'],0.50),2)\n",
    "emp_75q=round(np.quantile(visa_df['no_of_employees'],0.75),2)\n",
    "\n",
    "print(f'The 25% data is {emp_25q}')\n",
    "print(f'The 50% data is {emp_50q}')\n",
    "print(f'The 75% data is {emp_75q}')"
   ]
  },
  {
   "cell_type": "code",
   "execution_count": 44,
   "id": "744e6c1d-25bb-4e6b-8316-18a7cfd3b28f",
   "metadata": {},
   "outputs": [
    {
     "data": {
      "text/html": [
       "<div>\n",
       "<style scoped>\n",
       "    .dataframe tbody tr th:only-of-type {\n",
       "        vertical-align: middle;\n",
       "    }\n",
       "\n",
       "    .dataframe tbody tr th {\n",
       "        vertical-align: top;\n",
       "    }\n",
       "\n",
       "    .dataframe thead th {\n",
       "        text-align: right;\n",
       "    }\n",
       "</style>\n",
       "<table border=\"1\" class=\"dataframe\">\n",
       "  <thead>\n",
       "    <tr style=\"text-align: right;\">\n",
       "      <th></th>\n",
       "      <th>No of employees</th>\n",
       "    </tr>\n",
       "  </thead>\n",
       "  <tbody>\n",
       "    <tr>\n",
       "      <th>count</th>\n",
       "      <td>25480.00</td>\n",
       "    </tr>\n",
       "    <tr>\n",
       "      <th>max</th>\n",
       "      <td>602069.00</td>\n",
       "    </tr>\n",
       "    <tr>\n",
       "      <th>min</th>\n",
       "      <td>-26.00</td>\n",
       "    </tr>\n",
       "    <tr>\n",
       "      <th>mean</th>\n",
       "      <td>5667.04</td>\n",
       "    </tr>\n",
       "    <tr>\n",
       "      <th>median</th>\n",
       "      <td>2109.00</td>\n",
       "    </tr>\n",
       "    <tr>\n",
       "      <th>std</th>\n",
       "      <td>22877.93</td>\n",
       "    </tr>\n",
       "    <tr>\n",
       "      <th>25%</th>\n",
       "      <td>1022.00</td>\n",
       "    </tr>\n",
       "    <tr>\n",
       "      <th>50%</th>\n",
       "      <td>2109.00</td>\n",
       "    </tr>\n",
       "    <tr>\n",
       "      <th>75%</th>\n",
       "      <td>3504.00</td>\n",
       "    </tr>\n",
       "  </tbody>\n",
       "</table>\n",
       "</div>"
      ],
      "text/plain": [
       "        No of employees\n",
       "count          25480.00\n",
       "max           602069.00\n",
       "min              -26.00\n",
       "mean            5667.04\n",
       "median          2109.00\n",
       "std            22877.93\n",
       "25%             1022.00\n",
       "50%             2109.00\n",
       "75%             3504.00"
      ]
     },
     "execution_count": 44,
     "metadata": {},
     "output_type": "execute_result"
    }
   ],
   "source": [
    "list_values=[emp_len,emp_max,emp_min,\n",
    "             emp_mean,emp_median,emp_std,\n",
    "             emp_25q,emp_50q,emp_75q]\n",
    "\n",
    "idx=['count','max','min',\n",
    "     'mean','median','std',\n",
    "     '25%','50%','75%']\n",
    "pd.DataFrame(list_values,\n",
    "             index=idx,\n",
    "             columns=['No of employees'])"
   ]
  },
  {
   "cell_type": "code",
   "execution_count": 45,
   "id": "a00570a5-ea5f-4cc9-9828-8c991ceae42a",
   "metadata": {},
   "outputs": [
    {
     "data": {
      "text/html": [
       "<div>\n",
       "<style scoped>\n",
       "    .dataframe tbody tr th:only-of-type {\n",
       "        vertical-align: middle;\n",
       "    }\n",
       "\n",
       "    .dataframe tbody tr th {\n",
       "        vertical-align: top;\n",
       "    }\n",
       "\n",
       "    .dataframe thead th {\n",
       "        text-align: right;\n",
       "    }\n",
       "</style>\n",
       "<table border=\"1\" class=\"dataframe\">\n",
       "  <thead>\n",
       "    <tr style=\"text-align: right;\">\n",
       "      <th></th>\n",
       "      <th>No of employees</th>\n",
       "    </tr>\n",
       "  </thead>\n",
       "  <tbody>\n",
       "    <tr>\n",
       "      <th>count</th>\n",
       "      <td>25480.000000</td>\n",
       "    </tr>\n",
       "    <tr>\n",
       "      <th>max</th>\n",
       "      <td>602069.000000</td>\n",
       "    </tr>\n",
       "    <tr>\n",
       "      <th>min</th>\n",
       "      <td>-26.000000</td>\n",
       "    </tr>\n",
       "    <tr>\n",
       "      <th>mean</th>\n",
       "      <td>5667.043210</td>\n",
       "    </tr>\n",
       "    <tr>\n",
       "      <th>median</th>\n",
       "      <td>2109.000000</td>\n",
       "    </tr>\n",
       "    <tr>\n",
       "      <th>std</th>\n",
       "      <td>22877.928848</td>\n",
       "    </tr>\n",
       "    <tr>\n",
       "      <th>25%</th>\n",
       "      <td>1022.000000</td>\n",
       "    </tr>\n",
       "    <tr>\n",
       "      <th>50%</th>\n",
       "      <td>2109.000000</td>\n",
       "    </tr>\n",
       "    <tr>\n",
       "      <th>75%</th>\n",
       "      <td>3504.000000</td>\n",
       "    </tr>\n",
       "  </tbody>\n",
       "</table>\n",
       "</div>"
      ],
      "text/plain": [
       "        No of employees\n",
       "count      25480.000000\n",
       "max       602069.000000\n",
       "min          -26.000000\n",
       "mean        5667.043210\n",
       "median      2109.000000\n",
       "std        22877.928848\n",
       "25%         1022.000000\n",
       "50%         2109.000000\n",
       "75%         3504.000000"
      ]
     },
     "execution_count": 45,
     "metadata": {},
     "output_type": "execute_result"
    }
   ],
   "source": [
    "emp_len=len(visa_df['no_of_employees'])\n",
    "emp_max=visa_df['no_of_employees'].max()\n",
    "emp_min=visa_df['no_of_employees'].min()\n",
    "emp_mean=visa_df['no_of_employees'].mean()\n",
    "emp_median=visa_df['no_of_employees'].median()\n",
    "emp_std=visa_df['no_of_employees'].std()\n",
    "list_values=[emp_len,emp_max,emp_min,emp_mean,emp_median,emp_std]\n",
    "\n",
    "#########################################################################\n",
    "\n",
    "emp_25q=round(np.quantile(visa_df['no_of_employees'],0.25),2)\n",
    "emp_50q=round(np.quantile(visa_df['no_of_employees'],0.50),2)\n",
    "emp_75q=round(np.quantile(visa_df['no_of_employees'],0.75),2)\n",
    "\n",
    "#############################################################################\n",
    "\n",
    "list_values=[emp_len,emp_max,emp_min,\n",
    "             emp_mean,emp_median,emp_std,\n",
    "             emp_25q,emp_50q,emp_75q]\n",
    "\n",
    "idx=['count','max','min',\n",
    "     'mean','median','std',\n",
    "     '25%','50%','75%']\n",
    "pd.DataFrame(list_values,\n",
    "             index=idx,\n",
    "             columns=['No of employees'])\n"
   ]
  },
  {
   "cell_type": "code",
   "execution_count": 46,
   "id": "7d4cda70-9811-4cdf-99a8-8be65feb9659",
   "metadata": {},
   "outputs": [
    {
     "data": {
      "text/html": [
       "<div>\n",
       "<style scoped>\n",
       "    .dataframe tbody tr th:only-of-type {\n",
       "        vertical-align: middle;\n",
       "    }\n",
       "\n",
       "    .dataframe tbody tr th {\n",
       "        vertical-align: top;\n",
       "    }\n",
       "\n",
       "    .dataframe thead th {\n",
       "        text-align: right;\n",
       "    }\n",
       "</style>\n",
       "<table border=\"1\" class=\"dataframe\">\n",
       "  <thead>\n",
       "    <tr style=\"text-align: right;\">\n",
       "      <th></th>\n",
       "      <th>no_of_employees</th>\n",
       "      <th>yr_of_estab</th>\n",
       "      <th>prevailing_wage</th>\n",
       "    </tr>\n",
       "  </thead>\n",
       "  <tbody>\n",
       "    <tr>\n",
       "      <th>count</th>\n",
       "      <td>25480.00</td>\n",
       "      <td>25480.00</td>\n",
       "      <td>25480.00</td>\n",
       "    </tr>\n",
       "    <tr>\n",
       "      <th>max</th>\n",
       "      <td>602069.00</td>\n",
       "      <td>2016.00</td>\n",
       "      <td>319210.27</td>\n",
       "    </tr>\n",
       "    <tr>\n",
       "      <th>min</th>\n",
       "      <td>-26.00</td>\n",
       "      <td>1800.00</td>\n",
       "      <td>2.14</td>\n",
       "    </tr>\n",
       "    <tr>\n",
       "      <th>mean</th>\n",
       "      <td>5667.04</td>\n",
       "      <td>1979.41</td>\n",
       "      <td>74455.81</td>\n",
       "    </tr>\n",
       "    <tr>\n",
       "      <th>median</th>\n",
       "      <td>2109.00</td>\n",
       "      <td>1997.00</td>\n",
       "      <td>70308.21</td>\n",
       "    </tr>\n",
       "    <tr>\n",
       "      <th>std</th>\n",
       "      <td>22877.93</td>\n",
       "      <td>42.37</td>\n",
       "      <td>52815.94</td>\n",
       "    </tr>\n",
       "    <tr>\n",
       "      <th>25%</th>\n",
       "      <td>1022.00</td>\n",
       "      <td>1976.00</td>\n",
       "      <td>34015.48</td>\n",
       "    </tr>\n",
       "    <tr>\n",
       "      <th>50%</th>\n",
       "      <td>2109.00</td>\n",
       "      <td>1997.00</td>\n",
       "      <td>70308.21</td>\n",
       "    </tr>\n",
       "    <tr>\n",
       "      <th>75%</th>\n",
       "      <td>3504.00</td>\n",
       "      <td>2005.00</td>\n",
       "      <td>107735.51</td>\n",
       "    </tr>\n",
       "  </tbody>\n",
       "</table>\n",
       "</div>"
      ],
      "text/plain": [
       "        no_of_employees  yr_of_estab  prevailing_wage\n",
       "count          25480.00     25480.00         25480.00\n",
       "max           602069.00      2016.00        319210.27\n",
       "min              -26.00      1800.00             2.14\n",
       "mean            5667.04      1979.41         74455.81\n",
       "median          2109.00      1997.00         70308.21\n",
       "std            22877.93        42.37         52815.94\n",
       "25%             1022.00      1976.00         34015.48\n",
       "50%             2109.00      1997.00         70308.21\n",
       "75%             3504.00      2005.00        107735.51"
      ]
     },
     "execution_count": 46,
     "metadata": {},
     "output_type": "execute_result"
    }
   ],
   "source": [
    "l1=[]\n",
    "cols=['no_of_employees','yr_of_estab','prevailing_wage']\n",
    "\n",
    "for i in cols:\n",
    "    lenn=round(len(visa_df[i]),2)\n",
    "    maxx=round(visa_df[i].max(),2)\n",
    "    minn=round(visa_df[i].min(),2)\n",
    "    meann=round(visa_df[i].mean(),2)\n",
    "    mediann=round(visa_df[i].median(),2)\n",
    "    stdd=round(visa_df[i].std(),2)\n",
    "    q_25=round(np.quantile(visa_df[i],0.25),2)\n",
    "    q_50=round(np.quantile(visa_df[i],0.50),2)\n",
    "    q_75=round(np.quantile(visa_df[i],0.75),2)\n",
    "    l1.append([lenn,maxx,minn,meann,mediann,stdd,q_25,q_50,q_75])\n",
    "\n",
    "idx=['count','max','min',\n",
    "     'mean','median','std',\n",
    "     '25%','50%','75%']\n",
    "\n",
    "pd.DataFrame(l1,index=cols,columns=idx).T\n"
   ]
  },
  {
   "cell_type": "markdown",
   "id": "b659a9e7-bd78-4e1e-83c1-c57f16ffca24",
   "metadata": {},
   "source": [
    "**Describe function**\n",
    "\n",
    "- it is only for numerical data"
   ]
  },
  {
   "cell_type": "code",
   "execution_count": 47,
   "id": "045ae03e-a129-4157-b8aa-e40dc4e8f755",
   "metadata": {},
   "outputs": [
    {
     "data": {
      "text/html": [
       "<div>\n",
       "<style scoped>\n",
       "    .dataframe tbody tr th:only-of-type {\n",
       "        vertical-align: middle;\n",
       "    }\n",
       "\n",
       "    .dataframe tbody tr th {\n",
       "        vertical-align: top;\n",
       "    }\n",
       "\n",
       "    .dataframe thead th {\n",
       "        text-align: right;\n",
       "    }\n",
       "</style>\n",
       "<table border=\"1\" class=\"dataframe\">\n",
       "  <thead>\n",
       "    <tr style=\"text-align: right;\">\n",
       "      <th></th>\n",
       "      <th>no_of_employees</th>\n",
       "      <th>yr_of_estab</th>\n",
       "      <th>prevailing_wage</th>\n",
       "    </tr>\n",
       "  </thead>\n",
       "  <tbody>\n",
       "    <tr>\n",
       "      <th>count</th>\n",
       "      <td>25480.000000</td>\n",
       "      <td>25480.000000</td>\n",
       "      <td>25480.000000</td>\n",
       "    </tr>\n",
       "    <tr>\n",
       "      <th>mean</th>\n",
       "      <td>5667.043210</td>\n",
       "      <td>1979.409929</td>\n",
       "      <td>74455.814592</td>\n",
       "    </tr>\n",
       "    <tr>\n",
       "      <th>std</th>\n",
       "      <td>22877.928848</td>\n",
       "      <td>42.366929</td>\n",
       "      <td>52815.942327</td>\n",
       "    </tr>\n",
       "    <tr>\n",
       "      <th>min</th>\n",
       "      <td>-26.000000</td>\n",
       "      <td>1800.000000</td>\n",
       "      <td>2.136700</td>\n",
       "    </tr>\n",
       "    <tr>\n",
       "      <th>25%</th>\n",
       "      <td>1022.000000</td>\n",
       "      <td>1976.000000</td>\n",
       "      <td>34015.480000</td>\n",
       "    </tr>\n",
       "    <tr>\n",
       "      <th>50%</th>\n",
       "      <td>2109.000000</td>\n",
       "      <td>1997.000000</td>\n",
       "      <td>70308.210000</td>\n",
       "    </tr>\n",
       "    <tr>\n",
       "      <th>75%</th>\n",
       "      <td>3504.000000</td>\n",
       "      <td>2005.000000</td>\n",
       "      <td>107735.512500</td>\n",
       "    </tr>\n",
       "    <tr>\n",
       "      <th>max</th>\n",
       "      <td>602069.000000</td>\n",
       "      <td>2016.000000</td>\n",
       "      <td>319210.270000</td>\n",
       "    </tr>\n",
       "  </tbody>\n",
       "</table>\n",
       "</div>"
      ],
      "text/plain": [
       "       no_of_employees   yr_of_estab  prevailing_wage\n",
       "count     25480.000000  25480.000000     25480.000000\n",
       "mean       5667.043210   1979.409929     74455.814592\n",
       "std       22877.928848     42.366929     52815.942327\n",
       "min         -26.000000   1800.000000         2.136700\n",
       "25%        1022.000000   1976.000000     34015.480000\n",
       "50%        2109.000000   1997.000000     70308.210000\n",
       "75%        3504.000000   2005.000000    107735.512500\n",
       "max      602069.000000   2016.000000    319210.270000"
      ]
     },
     "execution_count": 47,
     "metadata": {},
     "output_type": "execute_result"
    }
   ],
   "source": [
    "visa_df.describe()"
   ]
  },
  {
   "cell_type": "markdown",
   "id": "af073d57-29d7-4f78-bc3f-dae515953bc9",
   "metadata": {},
   "source": [
    "**Histogram**"
   ]
  },
  {
   "cell_type": "markdown",
   "id": "ab71dee3-b247-4e3e-bb64-bb475d067f8e",
   "metadata": {},
   "source": [
    "- Histogram can get by matplotlib\n",
    "- histogram can get by seaborn also\n",
    "- plt.hist()"
   ]
  },
  {
   "cell_type": "code",
   "execution_count": 48,
   "id": "bf53da0d-9a8e-4d65-9e68-8142d9aa034e",
   "metadata": {},
   "outputs": [],
   "source": [
    "import matplotlib.pyplot as plt"
   ]
  },
  {
   "cell_type": "code",
   "execution_count": 49,
   "id": "610c4290-708d-4544-a308-61498ecdcac8",
   "metadata": {},
   "outputs": [
    {
     "data": {
      "text/plain": [
       "(array([6038., 5504., 5681., 4551., 2334.,  624.,  373.,  240.,  114.,\n",
       "          21.]),\n",
       " array([2.13670000e+00, 3.19229500e+04, 6.38437634e+04, 9.57645767e+04,\n",
       "        1.27685390e+05, 1.59606203e+05, 1.91527017e+05, 2.23447830e+05,\n",
       "        2.55368643e+05, 2.87289457e+05, 3.19210270e+05]),\n",
       " <BarContainer object of 10 artists>)"
      ]
     },
     "execution_count": 49,
     "metadata": {},
     "output_type": "execute_result"
    },
    {
     "data": {
      "image/png": "[encoded data removed]",
      "text/plain": [
       "<Figure size 640x480 with 1 Axes>"
      ]
     },
     "metadata": {},
     "output_type": "display_data"
    }
   ],
   "source": [
    "plt.hist(visa_df['prevailing_wage'])"
   ]
  },
  {
   "cell_type": "markdown",
   "id": "d53a00e6-2bef-4e67-bbce-dc4e80ca45fa",
   "metadata": {},
   "source": [
    "- from interval range\n",
    "    - 2.13670000e+00 to 3.19229500e+04\n",
    "        - 6038 memebers have salary\n",
    "    - 3.19229500e+04 to 6.38437634e+04\n",
    "        - 5504 members have salary\n",
    "\n",
    "- histogram will give 3 outputs\n",
    "    - frequency\n",
    "            - in each interval range how many observations are there\n",
    "    - interval\n",
    "            - interval range\n",
    "    - number of intervals"
   ]
  },
  {
   "cell_type": "markdown",
   "id": "40db7e12-2a41-4eca-9cb7-32cd7ab1886d",
   "metadata": {},
   "source": [
    "**check point-1**"
   ]
  },
  {
   "cell_type": "code",
   "execution_count": 50,
   "id": "76ae5464-3b89-4750-bbc9-67fd5fea7ab4",
   "metadata": {},
   "outputs": [
    {
     "data": {
      "text/plain": [
       "(2.1367, 31922.95)"
      ]
     },
     "execution_count": 50,
     "metadata": {},
     "output_type": "execute_result"
    }
   ],
   "source": [
    "2.13670000e+00 , 3.19229500e+04\n"
   ]
  },
  {
   "cell_type": "code",
   "execution_count": 51,
   "id": "7eeb18f4-2fc5-4258-bbe0-ddcc07cf9422",
   "metadata": {},
   "outputs": [
    {
     "data": {
      "text/plain": [
       "6038"
      ]
     },
     "execution_count": 51,
     "metadata": {},
     "output_type": "execute_result"
    }
   ],
   "source": [
    "con1=visa_df['prevailing_wage']>=2.1367\n",
    "con2=visa_df['prevailing_wage']<31922.95\n",
    "count1=len(visa_df[con1&con2])\n",
    "count1"
   ]
  },
  {
   "cell_type": "code",
   "execution_count": 54,
   "id": "b9fab45a-ed0d-495d-927c-c743f1fbda61",
   "metadata": {},
   "outputs": [
    {
     "name": "stdout",
     "output_type": "stream",
     "text": [
      "<BarContainer object of 100 artists>\n"
     ]
    },
    {
     "data": {
      "image/png": "[encoded data removed]",
      "text/plain": [
       "<Figure size 640x480 with 1 Axes>"
      ]
     },
     "metadata": {},
     "output_type": "display_data"
    }
   ],
   "source": [
    "f,i,n=plt.hist(visa_df['prevailing_wage'],\n",
    "         bins=100)\n",
    "print(n)"
   ]
  },
  {
   "cell_type": "code",
   "execution_count": 56,
   "id": "37cae3b9-3252-4b22-ab06-7bfbe827db7d",
   "metadata": {},
   "outputs": [
    {
     "data": {
      "image/png": "[encoded data removed]",
      "text/plain": [
       "<Figure size 640x480 with 1 Axes>"
      ]
     },
     "metadata": {},
     "output_type": "display_data"
    }
   ],
   "source": [
    "import matplotlib.pyplot as plt\n",
    "plt.hist(visa_df['prevailing_wage'],bins=40)\n",
    "plt.title('Histogram')\n",
    "plt.xlabel('class Interval')\n",
    "plt.ylabel('count')\n",
    "plt.show()"
   ]
  },
  {
   "cell_type": "code",
   "execution_count": 63,
   "id": "c1ad2b7c-9720-4433-a8ac-6dd0fb1ab4b0",
   "metadata": {},
   "outputs": [
    {
     "data": {
      "text/plain": [
       "Text(0, 0.5, 'count')"
      ]
     },
     "execution_count": 63,
     "metadata": {},
     "output_type": "execute_result"
    },
    {
     "data": {
      "image/png": "[encoded data removed]",
      "text/plain": [
       "<Figure size 1800x300 with 3 Axes>"
      ]
     },
     "metadata": {},
     "output_type": "display_data"
    }
   ],
   "source": [
    "plt.figure(figsize=(18,3))\n",
    "plt.subplot(1,3,1)\n",
    "plt.hist(visa_df['prevailing_wage'],bins=40)\n",
    "plt.title('Histogram')\n",
    "plt.xlabel('class Interval')\n",
    "plt.ylabel('count')\n",
    "\n",
    "plt.subplot(1,3,2)\n",
    "plt.hist(visa_df['no_of_employees'],bins=40)\n",
    "plt.title('Histogram')\n",
    "plt.xlabel('class Interval')\n",
    "plt.ylabel('count')\n",
    "\n",
    "plt.subplot(1,3,3)\n",
    "plt.hist(visa_df['yr_of_estab'],bins=40)\n",
    "plt.title('Histogram')\n",
    "plt.xlabel('class Interval')\n",
    "plt.ylabel('count')\n"
   ]
  },
  {
   "cell_type": "code",
   "execution_count": 64,
   "id": "8e011783-1e85-4562-b1b8-5efb114b1911",
   "metadata": {},
   "outputs": [
    {
     "data": {
      "image/png": "[encoded data removed]",
      "text/plain": [
       "<Figure size 1800x300 with 3 Axes>"
      ]
     },
     "metadata": {},
     "output_type": "display_data"
    }
   ],
   "source": [
    "plt.figure(figsize=(18,3))\n",
    "for i in range(len(cols)):\n",
    "    plt.subplot(1,len(cols),i+1)\n",
    "    plt.hist(visa_df[cols[i]],bins=40)\n",
    "    plt.title(f'Hostogram of {cols[i]}')\n",
    "    plt.xlabel('class Interval')\n",
    "    plt.ylabel('count')"
   ]
  },
  {
   "cell_type": "code",
   "execution_count": 65,
   "id": "4a85a337-7efa-4c04-83e5-252061642300",
   "metadata": {},
   "outputs": [
    {
     "name": "stderr",
     "output_type": "stream",
     "text": [
      "C:\\Users\\vamsh\\anaconda3\\Lib\\site-packages\\seaborn\\_oldcore.py:1119: FutureWarning: use_inf_as_na option is deprecated and will be removed in a future version. Convert inf values to NaN before operating instead.\n",
      "  with pd.option_context('mode.use_inf_as_na', True):\n"
     ]
    },
    {
     "data": {
      "text/plain": [
       "<Axes: xlabel='prevailing_wage', ylabel='Count'>"
      ]
     },
     "execution_count": 65,
     "metadata": {},
     "output_type": "execute_result"
    },
    {
     "data": {
      "image/png": "[encoded data removed]",
      "text/plain": [
       "<Figure size 640x480 with 1 Axes>"
      ]
     },
     "metadata": {},
     "output_type": "display_data"
    }
   ],
   "source": [
    "sns.histplot(visa_df['prevailing_wage'])"
   ]
  },
  {
   "cell_type": "code",
   "execution_count": 67,
   "id": "caf90b80-e653-4e42-9a4a-2cdc806beed1",
   "metadata": {},
   "outputs": [
    {
     "name": "stderr",
     "output_type": "stream",
     "text": [
      "C:\\Users\\vamsh\\AppData\\Local\\Temp\\ipykernel_22484\\2041553515.py:1: UserWarning: \n",
      "\n",
      "`distplot` is a deprecated function and will be removed in seaborn v0.14.0.\n",
      "\n",
      "Please adapt your code to use either `displot` (a figure-level function with\n",
      "similar flexibility) or `histplot` (an axes-level function for histograms).\n",
      "\n",
      "For a guide to updating your code to use the new functions, please see\n",
      "https://gist.github.com/mwaskom/de44147ed2974457ad6372750bbe5751\n",
      "\n",
      "  sns.distplot(visa_df['prevailing_wage'])\n",
      "C:\\Users\\vamsh\\anaconda3\\Lib\\site-packages\\seaborn\\_oldcore.py:1119: FutureWarning: use_inf_as_na option is deprecated and will be removed in a future version. Convert inf values to NaN before operating instead.\n",
      "  with pd.option_context('mode.use_inf_as_na', True):\n"
     ]
    },
    {
     "data": {
      "text/plain": [
       "<Axes: xlabel='prevailing_wage', ylabel='Density'>"
      ]
     },
     "execution_count": 67,
     "metadata": {},
     "output_type": "execute_result"
    },
    {
     "data": {
      "image/png": "[encoded data removed]",
      "text/plain": [
       "<Figure size 640x480 with 1 Axes>"
      ]
     },
     "metadata": {},
     "output_type": "display_data"
    }
   ],
   "source": [
    "sns.distplot(visa_df['prevailing_wage'])"
   ]
  },
  {
   "cell_type": "code",
   "execution_count": 68,
   "id": "4c48d147-4209-4cb4-8727-70f2a793110c",
   "metadata": {},
   "outputs": [
    {
     "data": {
      "text/plain": [
       "<Axes: xlabel='prevailing_wage', ylabel='Density'>"
      ]
     },
     "execution_count": 68,
     "metadata": {},
     "output_type": "execute_result"
    },
    {
     "data": {
      "image/png": "[encoded data removed]",
      "text/plain": [
       "<Figure size 640x480 with 1 Axes>"
      ]
     },
     "metadata": {},
     "output_type": "display_data"
    }
   ],
   "source": [
    "import warnings\n",
    "warnings.filterwarnings('ignore')\n",
    "sns.distplot(visa_df['prevailing_wage'])"
   ]
  },
  {
   "cell_type": "code",
   "execution_count": 77,
   "id": "26ec61da-d12c-4ea3-a537-f5fd7f2ced7e",
   "metadata": {},
   "outputs": [
    {
     "data": {
      "text/plain": [
       "<Axes: xlabel='prevailing_wage', ylabel='Density'>"
      ]
     },
     "execution_count": 77,
     "metadata": {},
     "output_type": "execute_result"
    },
    {
     "data": {
      "image/png": "[encoded data removed]",
      "text/plain": [
       "<Figure size 640x480 with 2 Axes>"
      ]
     },
     "metadata": {},
     "output_type": "display_data"
    }
   ],
   "source": [
    "import seaborn as sns\n",
    "plt.subplot(1,2,1)\n",
    "sns.histplot(visa_df['prevailing_wage'])\n",
    "\n",
    "import seaborn as sns\n",
    "plt.subplot(1,2,2)\n",
    "sns.distplot(visa_df['prevailing_wage'])"
   ]
  },
  {
   "cell_type": "code",
   "execution_count": 85,
   "id": "5af08a01-ea46-4d4b-a8c1-4015e2ac6ced",
   "metadata": {},
   "outputs": [
    {
     "data": {
      "image/png": "[encoded data removed]",
      "text/plain": [
       "<Figure size 640x480 with 3 Axes>"
      ]
     },
     "metadata": {},
     "output_type": "display_data"
    }
   ],
   "source": [
    "for i in range(len(cols)):\n",
    "   # plt.figure(figsize=(5,3))\n",
    "    plt.subplot(1,len(cols),i+1)\n",
    "    sns.histplot(visa_df[cols[i]])"
   ]
  },
  {
   "cell_type": "code",
   "execution_count": 86,
   "id": "0c3d3fd4-ebe1-4b4a-9313-2fcf969f5d9e",
   "metadata": {},
   "outputs": [
    {
     "data": {
      "image/png": "[encoded data removed]",
      "text/plain": [
       "<Figure size 640x480 with 3 Axes>"
      ]
     },
     "metadata": {},
     "output_type": "display_data"
    }
   ],
   "source": [
    "for i in range(len(cols)):\n",
    "   # plt.figure(figsize=(5,3))\n",
    "    plt.subplot(1,len(cols),i+1)\n",
    "    sns.distplot(visa_df[cols[i]])"
   ]
  },
  {
   "cell_type": "code",
   "execution_count": null,
   "id": "a5a465a2-d68f-4729-8c83-7e8cfdf4041e",
   "metadata": {},
   "outputs": [],
   "source": []
  }
 ],
 "metadata": {
  "kernelspec": {
   "display_name": "Python 3 (ipykernel)",
   "language": "python",
   "name": "python3"
  },
  "language_info": {
   "codemirror_mode": {
    "name": "ipython",
    "version": 3
   },
   "file_extension": ".py",
   "mimetype": "text/x-python",
   "name": "python",
   "nbconvert_exporter": "python",
   "pygments_lexer": "ipython3",
   "version": "3.11.7"
  }
 },
 "nbformat": 4,
 "nbformat_minor": 5
}
